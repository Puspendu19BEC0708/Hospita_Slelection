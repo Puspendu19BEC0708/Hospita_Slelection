{
 "cells": [
  {
   "cell_type": "markdown",
   "metadata": {
    "collapsed": true
   },
   "source": [
    "# Introduction"
   ]
  },
  {
   "cell_type": "markdown",
   "metadata": {},
   "source": [
    "## Problem"
   ]
  },
  {
   "cell_type": "markdown",
   "metadata": {},
   "source": [
    "Some Time when a person he / she does not know that place very well so it is very hard for him to find an hospital at the time of emergency some time person may get know the name of the hospital from another person but he does not know about the quality of that particular hospital so in this project we make hospital recomendation system where user will put the detail of the level of quality of hospital and as per his/her quality level we recomended hospital to him .\n",
    "\n",
    "Now by using ***Foursquare location*** this API is used to show the location of those recomended hospital in the world map \n",
    "\n",
    "\n",
    "\n"
   ]
  },
  {
   "cell_type": "markdown",
   "metadata": {},
   "source": [
    "## Background"
   ]
  },
  {
   "attachments": {},
   "cell_type": "markdown",
   "metadata": {},
   "source": [
    "Finding a hospital is different than to find a good hospital some time we are not able to find best hospital at the time of emergency in google map because in google map we can not provide some parameter such as Meets criteria for promoting interoperability of EHRs ,Mortality national comparison footnote,Safety of care national comparison footnote,Readmission national comparisonn etc so for that we created an project where we can use these feature to recomend a new hospital for our user \n"
   ]
  },
  {
   "cell_type": "markdown",
   "metadata": {},
   "source": [
    "# Data"
   ]
  },
  {
   "cell_type": "markdown",
   "metadata": {},
   "source": [
    "Here we are using the data set that contain the folloing things \n",
    "<li>\n",
    "Faculty Id \n",
    "<li>\n",
    "Facility Name\n",
    "    <li>\n",
    "Address\n",
    " <li>\n",
    "City\n",
    "  <li>\n",
    "State\n",
    "   <li>\n",
    "ZIP Code\n",
    "       <li>\n",
    "County Name\n",
    "           <li>\n",
    "Phone Number\n",
    "               <li>\n",
    "Hospital Type\n",
    "                   <li>\n",
    "Hospital Ownership\n",
    "                       <li>\n",
    "Emergency Services\n",
    "                           <li>\n",
    "Meets criteria for promoting interoperability of EHRs\n",
    "                               <li>\n",
    "Hospital overall ratingn\n",
    "                                   <li>\n",
    "Hospital overall rating footnote\n",
    "                                       <li>\n",
    "Mortality national comparisonn\n",
    "                                           <li>\n",
    "Mortality national comparison footnote\n",
    "                                               <li>\n",
    "Safety of care national comparisonn\n",
    "                                                   <li>\n",
    "Safety of care national comparison footnote\n",
    "                                                       <li>\n",
    "Readmission national comparisonn\n",
    "                                                           <li>\n",
    "Readmission national comparison footnote\n",
    "                                                               <li>\n",
    "Patient experience national comparisonn\n",
    "                                                                   <li>\n",
    "Patient experience national comparison footnote\n",
    "                                                                       <li>\n",
    "Effectiveness of care national comparison footnoten\n",
    "                                                                           <li>\n",
    "Effectiveness of care national comparison footnoten\n",
    "                                                                               <li>\n",
    "Timeliness of care national comparisonn\n",
    "                                                                                   <li>\n",
    "Timeliness of care national comparison footnote\n",
    "                                                                                       <li>\n",
    "Efficient use of medical imaging national comparison footnote\n",
    "                                                                                           <li>\n",
    "Location\n",
    "<li>\n",
    "Among The above factor there some factor which decide the quality of the hospital among above features the feature which determine the quality of hospital is given below \n",
    "\n",
    "Emergency Services\n",
    "                           <li>\n",
    "Meets criteria for promoting interoperability of EHRs\n",
    "                               <li>\n",
    "Hospital overall ratingn\n",
    "                                   <li>\n",
    "Hospital overall rating footnote\n",
    "                                       <li>\n",
    "Mortality national comparisonn\n",
    "                                           <li>\n",
    "Mortality national comparison footnote\n",
    "                                               <li>\n",
    "Safety of care national comparisonn\n",
    "                                                   <li>\n",
    "Safety of care national comparison footnote\n",
    "                                                       <li>\n",
    "Readmission national comparisonn\n",
    "                                                           <li>\n",
    "Readmission national comparison footnote\n",
    "                                                               <li>\n",
    "Patient experience national comparisonn\n",
    "                                                                   <li>\n",
    "Patient experience national comparison footnote\n",
    "                                                                       <li>\n",
    "Effectiveness of care national comparison footnoten\n",
    "                                                                           <li>\n",
    "Effectiveness of care national comparison footnoten\n",
    "                                                                               <li>\n",
    "Timeliness of care national comparisonn\n",
    "                                                                                   <li>\n",
    "Timeliness of care national comparison footnote\n",
    "                                                                                       <li>\n",
    "Efficient use of medical imaging national comparison footnote\n",
    "                                                                                           <li>\n",
    "Location\n",
    "                                                                                               \n",
    "User have to provides thes data and among these data our recomender system will recomende the hospital suppose hospital recomendaded by our model is of Hospital Type Psychiatric then all the hospital of these type will be shown in the map by using ***Foursquare location*** t \n",
    " \n"
   ]
  },
  {
   "cell_type": "code",
   "execution_count": null,
   "metadata": {},
   "outputs": [],
   "source": []
  }
 ],
 "metadata": {
  "kernelspec": {
   "display_name": "Python 3.7",
   "language": "python",
   "name": "python3"
  },
  "language_info": {
   "codemirror_mode": {
    "name": "ipython",
    "version": 3
   },
   "file_extension": ".py",
   "mimetype": "text/x-python",
   "name": "python",
   "nbconvert_exporter": "python",
   "pygments_lexer": "ipython3",
   "version": "3.7.9"
  }
 },
 "nbformat": 4,
 "nbformat_minor": 1
}
